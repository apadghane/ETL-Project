{
 "cells": [
  {
   "cell_type": "markdown",
   "id": "a7f7d882",
   "metadata": {},
   "source": [
    "# ETL Assigment<br>\n",
    "![etl](https://www.pngitem.com/pimgs/m/537-5379917_extract-transform-load-logo-hd-png-download.png)\n",
    "<br>\n",
    "### Problem Defination\n",
    "In this assigment, Data need to be loaded from source. Transformed in such a fashion that output should be a database supported (sql) file. Transformation that need be done is adding an extra column which will contain date and time.<br>\n",
    "### Points that need to be covered\n",
    "* **When loading files, only specific files need to be loaded.**\n",
    "* **New field should be added to existing data which will contain Date and timestamp.**\n",
    "* **Output should be a sql file/dump.**"
   ]
  },
  {
   "cell_type": "markdown",
   "id": "1a220d3a",
   "metadata": {},
   "source": [
    "## ETL Process\n",
    "### by Abhishek Padghane as follows:\n",
    "\n",
    "* Getting some random files and storing it in data folder.\n",
    "* Getting files which consist data for ETL and renaming them according to problem statement.\n",
    "* Loading the files as pandas Dataframe.\n",
    "* Performing required analysis.\n",
    "* Saving files in database (sql format)."
   ]
  },
  {
   "cell_type": "markdown",
   "id": "b0ed7ba5",
   "metadata": {},
   "source": [
    "## Third party libraries\n",
    "![pandas](https://upload.wikimedia.org/wikipedia/commons/thumb/e/ed/Pandas_logo.svg/1200px-Pandas_logo.svg.png)\n",
    "![sqlalchemy](https://hakin9.org/wp-content/uploads/2019/08/connect-a-flask-app-to-a-mysql-database-with-sqlalchemy-and-pymysql.jpg)\n",
    "![glob](data:image/jpeg;base64,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)\n",
    "![dotenv](https://raw.githubusercontent.com/motdotla/dotenv/master/dotenv.png)"
   ]
  },
  {
   "cell_type": "code",
   "execution_count": null,
   "id": "89ad2226",
   "metadata": {},
   "outputs": [],
   "source": [
    "# importing required libraries\n",
    "\n",
    "# re for regular expression\n",
    "import re\n",
    "\n",
    "# os for system related operations\n",
    "import os\n",
    "\n",
    "# glob for extracting required files\n",
    "import glob\n",
    "\n",
    "# dotenv to read credentials as environmental variables\n",
    "import dotenv\n",
    "\n",
    "# pandas for data processing\n",
    "import pandas\n",
    "\n",
    "# warnings for handle warning\n",
    "import warnings\n",
    "\n",
    "# datetime for date and time related operations\n",
    "import datetime\n",
    "\n",
    "# sqlalchemy for connection with mariadb DBMS application\n",
    "import sqlalchemy\n",
    "\n",
    "# hiding all warnings\n",
    "warnings.filterwarnings('ignore')"
   ]
  },
  {
   "cell_type": "markdown",
   "id": "a2f3e6dd",
   "metadata": {},
   "source": [
    "![etl](https://www.astera.com/wp-content/uploads/2019/10/etl.png)"
   ]
  },
  {
   "cell_type": "markdown",
   "id": "f3556854",
   "metadata": {},
   "source": [
    "## EXTRACT\n",
    "In this process, i am extracting my data from **.csv**(comma separated value) format.<br>\n",
    "Rules are:\n",
    "* File name should be like \"Analytics_dd_mm_yyyy\"\n",
    "* File format should be csv<br>\n",
    "using `glob.glob`(*regex*) for getting file name based on search pattern"
   ]
  },
  {
   "cell_type": "code",
   "execution_count": null,
   "id": "003f26fa",
   "metadata": {},
   "outputs": [],
   "source": [
    "# initializing data directory\n",
    "data_directory = \"Analytics\"\n",
    "\n",
    "# initializing date pattern regex\n",
    "date_pattern = r\"[0-9][0-9]-[0-9][0-9]-[0-9][0-9][0-9][0-9]\"\n",
    "\n",
    "# initializing regex for searching files\n",
    "file_search_pattern = data_directory + \"_\" + date_pattern\n",
    "\n",
    "# initializing file format, in our case its csv\n",
    "file_format = \".csv\"\n",
    "\n",
    "# getting files with path associated\n",
    "data_files = glob.glob(os.path.join(data_directory, file_search_pattern + file_format))\n",
    "\n",
    "# displaying files\n",
    "print(\"Files are:\\n\")\n",
    "for files in data_files:\n",
    "    print(files[len(data_directory)+1:])"
   ]
  },
  {
   "cell_type": "markdown",
   "id": "6f6bd558",
   "metadata": {},
   "source": [
    "Using `pandas.read_csv`(*file path*) for reading data into `pandas.DataFrame()` API.<br>\n",
    "Storing all files Dataframes into a `List`"
   ]
  },
  {
   "cell_type": "code",
   "execution_count": null,
   "id": "32809785",
   "metadata": {},
   "outputs": [],
   "source": [
    "# reading data of files, using pandas DataFrame API / Data structure for our data\n",
    "data_files_df_list = list(map(pandas.read_csv, data_files))"
   ]
  },
  {
   "cell_type": "markdown",
   "id": "fe2184f6",
   "metadata": {},
   "source": [
    "Analyzing **schema** of one of the df, considered all df schema are similar."
   ]
  },
  {
   "cell_type": "code",
   "execution_count": null,
   "id": "8478bf15",
   "metadata": {},
   "outputs": [],
   "source": [
    "# displaying schema\n",
    "print(\"Fields are:\\n\")\n",
    "for column in data_files_df_list[0].columns:\n",
    "    print(column)"
   ]
  },
  {
   "cell_type": "code",
   "execution_count": null,
   "id": "a8b01770",
   "metadata": {},
   "outputs": [],
   "source": [
    "# Analyzing file by looking first 5 values of one of the file\n",
    "data_files_df_list[0].head()"
   ]
  },
  {
   "cell_type": "markdown",
   "id": "ba6b1505",
   "metadata": {},
   "source": [
    "Analyzing columns of all df where sum of null values is greater than 0"
   ]
  },
  {
   "cell_type": "code",
   "execution_count": null,
   "id": "4bfec048",
   "metadata": {},
   "outputs": [],
   "source": [
    "# analyzing which columns have null values greater than 0\n",
    "\n",
    "print(\"Checking columns with null values:\\n\\n\")\n",
    "for files, df in zip(data_files, data_files_df_list):\n",
    "    print(f\"Columns with higher null total then other columns in {files[len(data_directory)+1:]}:\\n\")\n",
    "    display_list = []\n",
    "    \n",
    "    # adding fields and nul value total which is higher than 0 in a list\n",
    "    for field, null_val in zip(df.columns, df.isnull().sum()):\n",
    "        if null_val > 0:\n",
    "            display_list.append([field, str(null_val)])\n",
    "    \n",
    "    # printing field and nul value total\n",
    "    for display in display_list:\n",
    "        for entry in display:\n",
    "            print(entry.ljust(25), end='')\n",
    "        print()\n",
    "    print(\"\\n\")"
   ]
  },
  {
   "cell_type": "markdown",
   "id": "5db16b03",
   "metadata": {},
   "source": [
    "## TRANSFORM\n",
    "Now as we can see, **Trades, Deliverable Volume, %Deliverble** have high number of null value sum, removing them. Using `pandas.DataFrame.drop`(*columns, inplace=False, axis=0* )"
   ]
  },
  {
   "cell_type": "code",
   "execution_count": null,
   "id": "0da17230",
   "metadata": {},
   "outputs": [],
   "source": [
    "# removing fields that consists higher nulls\n",
    "higher_null_columns = [\"Trades\", \"Deliverable Volume\", \"%Deliverble\"]\n",
    "\n",
    "for df in data_files_df_list:\n",
    "    df.drop(columns=higher_null_columns, inplace=True, axis=1)"
   ]
  },
  {
   "cell_type": "code",
   "execution_count": null,
   "id": "e40cb861",
   "metadata": {},
   "outputs": [],
   "source": [
    "# Analyzing file by looking first 5 values after removal of above columns\n",
    "data_files_df_list[0].head()"
   ]
  },
  {
   "cell_type": "markdown",
   "id": "a97cd75a",
   "metadata": {},
   "source": [
    "Assigning a new column **File_Date_Time** for storing datetime of csv files."
   ]
  },
  {
   "cell_type": "code",
   "execution_count": null,
   "id": "864b9761",
   "metadata": {},
   "outputs": [],
   "source": [
    "# initializing datetime format\n",
    "date_time_format = \"%d-%m-%Y\"\n",
    "\n",
    "# making a new column which consist the datetime of file\n",
    "for files, df in zip(data_files, data_files_df_list):\n",
    "    df[\"File_Date_Time\"] = datetime.datetime.strptime(re.search(date_pattern, files).group(), date_time_format)"
   ]
  },
  {
   "cell_type": "code",
   "execution_count": null,
   "id": "bd82b257",
   "metadata": {},
   "outputs": [],
   "source": [
    "# Analyzing file by looking first 5 values after transformation\n",
    "data_files_df_list[1].head()"
   ]
  },
  {
   "cell_type": "code",
   "execution_count": null,
   "id": "72396b9c",
   "metadata": {},
   "outputs": [],
   "source": [
    "# checking data types of columns\n",
    "data_files_df_list[0].dtypes"
   ]
  },
  {
   "cell_type": "markdown",
   "id": "bc5ca606",
   "metadata": {},
   "source": [
    "## LOAD\n",
    "Making connection to mariadb dbms. First loading db credentials as environment variable using `dotenv.load_dotenv()` then `sqlalchemy.create_engine()` for db connection."
   ]
  },
  {
   "cell_type": "code",
   "execution_count": null,
   "id": "3c7f5ed5",
   "metadata": {},
   "outputs": [],
   "source": [
    "# loading db credentials as environment variables\n",
    "dotenv.load_dotenv()\n",
    "\n",
    "# making a db connection\n",
    "database_connection = sqlalchemy.create_engine(f'mysql+mysqlconnector://{os.environ[\"USER\"]}:{os.environ[\"PASS\"]}@'\n",
    "                           f'{os.environ[\"HOST\"]}:{os.environ[\"PORT\"]}/{os.environ[\"NAME\"]}')"
   ]
  },
  {
   "cell_type": "markdown",
   "id": "2a8985d7",
   "metadata": {},
   "source": [
    "Writing df into db tables using `pandas.DataFrame.to_sql()`"
   ]
  },
  {
   "cell_type": "code",
   "execution_count": null,
   "id": "54a211bd",
   "metadata": {},
   "outputs": [],
   "source": [
    "# saving/writing df to sql tables\n",
    "for df_pos, file_name in zip(range(len(data_files_df_list)), data_files):\n",
    "    \n",
    "    # initializing table name\n",
    "    table_name = \"_\".join(file_name[len(data_directory)+1:-4].split(\"-\"))\n",
    "    \n",
    "    # writing data in sql table\n",
    "    data_files_df_list[df_pos].to_sql(con=database_connection, name=table_name, if_exists='replace')"
   ]
  }
 ],
 "metadata": {
  "kernelspec": {
   "display_name": "Python 3",
   "language": "python",
   "name": "python3"
  },
  "language_info": {
   "codemirror_mode": {
    "name": "ipython",
    "version": 3
   },
   "file_extension": ".py",
   "mimetype": "text/x-python",
   "name": "python",
   "nbconvert_exporter": "python",
   "pygments_lexer": "ipython3",
   "version": "3.9.5"
  }
 },
 "nbformat": 4,
 "nbformat_minor": 5
}
